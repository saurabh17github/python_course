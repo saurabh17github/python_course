{
 "metadata": {
  "language_info": {
   "codemirror_mode": {
    "name": "ipython",
    "version": 3
   },
   "file_extension": ".py",
   "mimetype": "text/x-python",
   "name": "python",
   "nbconvert_exporter": "python",
   "pygments_lexer": "ipython3",
   "version": "3.9.1-final"
  },
  "orig_nbformat": 2,
  "kernelspec": {
   "name": "python3",
   "display_name": "Python 3.9.1 64-bit",
   "metadata": {
    "interpreter": {
     "hash": "da343b0410c570141bc843dfb9cc30812a026b83b14dc7d568c707edd21c02d5"
    }
   }
  }
 },
 "nbformat": 4,
 "nbformat_minor": 2,
 "cells": [
  {
   "source": [
    "#condition"
   ],
   "cell_type": "markdown",
   "metadata": {}
  },
  {
   "cell_type": "code",
   "execution_count": 4,
   "metadata": {},
   "outputs": [
    {
     "output_type": "stream",
     "name": "stdout",
     "text": [
      "its okh\n"
     ]
    }
   ],
   "source": [
    "a = 123\n",
    "if a % 3 == 0:\n",
    "    print('its okh')"
   ]
  },
  {
   "cell_type": "code",
   "execution_count": 9,
   "metadata": {},
   "outputs": [],
   "source": [
    "a= 666\n",
    "if a % 5 == 0:\n",
    "    print('okh')"
   ]
  },
  {
   "cell_type": "code",
   "execution_count": 8,
   "metadata": {},
   "outputs": [
    {
     "output_type": "stream",
     "name": "stdout",
     "text": [
      "theek hai\nni hua\n"
     ]
    }
   ],
   "source": [
    "if a%2==0:\n",
    "    print('theek hai')\n",
    "    print('ni hua')"
   ]
  },
  {
   "cell_type": "code",
   "execution_count": 6,
   "metadata": {},
   "outputs": [],
   "source": [
    "name='saurabh'\n",
    "if name=='Saurabh':\n",
    "    print('great i beleive in you')"
   ]
  },
  {
   "cell_type": "code",
   "execution_count": 12,
   "metadata": {},
   "outputs": [],
   "source": [
    "name='singh sahab'\n",
    "if name=='singh':\n",
    "    print('wrong')"
   ]
  },
  {
   "cell_type": "code",
   "execution_count": 14,
   "metadata": {},
   "outputs": [
    {
     "output_type": "stream",
     "name": "stdout",
     "text": [
      "i will go to gym\n"
     ]
    }
   ],
   "source": [
    "day=input('enter the day') #multiple conditions \n",
    "if day=='monday':\n",
    "    print('i have to attend a class')\n",
    "if day=='wednesday':\n",
    "    print('i have to sleep')\n",
    "if day=='sunday':\n",
    "    print('i will go to gym')\n",
    "     "
   ]
  },
  {
   "source": [
    "###agr user n 1000 diya to usme 500 minus krenge aur jo value bachi hai 750 s kam ho to 300 + krenge  ##nested if"
   ],
   "cell_type": "markdown",
   "metadata": {}
  },
  {
   "cell_type": "code",
   "execution_count": 17,
   "metadata": {},
   "outputs": [
    {
     "output_type": "stream",
     "name": "stdout",
     "text": [
      "money available 700\n"
     ]
    }
   ],
   "source": [
    "value= int(input('enter amtof money'))\n",
    "if value>1000:\n",
    "    value= value-500\n",
    "    if value<750:\n",
    "        value= value+300\n",
    "print('money available',value)"
   ]
  },
  {
   "cell_type": "code",
   "execution_count": 24,
   "metadata": {},
   "outputs": [
    {
     "output_type": "stream",
     "name": "stdout",
     "text": [
      "your name is saurabh\n"
     ]
    }
   ],
   "source": [
    "name=input('enter your name')\n",
    "if name.startswith('a') or name.startswith('b') or name.startswith('c'):\n",
    "    print('your name is saurabh')"
   ]
  },
  {
   "cell_type": "code",
   "execution_count": 32,
   "metadata": {},
   "outputs": [
    {
     "output_type": "stream",
     "name": "stdout",
     "text": [
      "get out\n"
     ]
    }
   ],
   "source": [
    "username=input('enter username')\n",
    "password=input('enter password')\n",
    "if username =='goku' and password =='deadly':\n",
    "    print('welcome master')\n",
    "else:\n",
    "    print('get out')"
   ]
  },
  {
   "source": [
    "#####using in keyword"
   ],
   "cell_type": "markdown",
   "metadata": {}
  },
  {
   "cell_type": "code",
   "execution_count": 35,
   "metadata": {},
   "outputs": [
    {
     "output_type": "stream",
     "name": "stdout",
     "text": [
      "its okh\n"
     ]
    }
   ],
   "source": [
    "sentece= \"there are gods everywhere\"\n",
    "if 'god' in sentece:\n",
    "    print('its okh')\n",
    "else:\n",
    "    print('sorry')"
   ]
  },
  {
   "cell_type": "code",
   "execution_count": 36,
   "metadata": {},
   "outputs": [
    {
     "output_type": "stream",
     "name": "stdout",
     "text": [
      "age bado\n"
     ]
    }
   ],
   "source": [
    "a=40\n",
    "b=760\n",
    "if a is 60:\n",
    "    print('itsokh')\n",
    "elif b is 800:\n",
    "    print('not correct')\n",
    "else:\n",
    "    print('age bado')"
   ]
  },
  {
   "cell_type": "code",
   "execution_count": 14,
   "metadata": {},
   "outputs": [],
   "source": [
    "day= input('enter a day')\n",
    "if day == ('wednesday'):\n",
    "    print('wear white')\n",
    "if day == ('satuday'):\n",
    "    print('house dress')"
   ]
  },
  {
   "cell_type": "code",
   "execution_count": 25,
   "metadata": {},
   "outputs": [
    {
     "output_type": "stream",
     "name": "stdout",
     "text": [
      "value, 10400\n"
     ]
    }
   ],
   "source": [
    "value = int(input('enter amount'))\n",
    "if value>700:\n",
    "    value = value-600\n",
    "if value<500:\n",
    "    value = value+10000 \n",
    "    print('value,',value)"
   ]
  },
  {
   "cell_type": "code",
   "execution_count": 1,
   "metadata": {},
   "outputs": [
    {
     "output_type": "stream",
     "name": "stdout",
     "text": [
      "shi hai\n"
     ]
    }
   ],
   "source": [
    "name = input ('enter your name')\n",
    "if name.startswith ('e') or name.startswith ('t'):\n",
    "    print('shi hai')"
   ]
  },
  {
   "source": [
    "##loop"
   ],
   "cell_type": "markdown",
   "metadata": {}
  },
  {
   "cell_type": "code",
   "execution_count": null,
   "metadata": {},
   "outputs": [],
   "source": []
  }
 ]
}